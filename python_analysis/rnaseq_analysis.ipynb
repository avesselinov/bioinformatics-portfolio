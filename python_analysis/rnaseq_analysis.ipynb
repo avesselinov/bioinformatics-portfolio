{
 "cells": [
  {
   "cell_type": "markdown",
   "metadata": {},
   "source": [
    "# RNA-seq Analysis Notebook\n",
    "Demonstration of RNA-seq count normalization and visualization."
   ]
  },
  {
   "cell_type": "code",
   "execution_count": null,
   "metadata": {},
   "outputs": [],
   "source": [
    "import pandas as pd\n",
    "import seaborn as sns\n",
    "import matplotlib.pyplot as plt\n",
    "\n",
    "# Load count data\n",
    "counts = pd.read_csv('../data/gene_counts.csv', index_col=0)\n",
    "\n",
    "# Normalize counts (CPM)\n",
    "counts_cpm = counts.div(counts.sum(axis=0), axis=1) * 1e6\n",
    "\n",
    "# Plot top expressed genes\n",
    "top_genes = counts_cpm.mean(axis=1).sort_values(ascending=False).head(15)\n",
    "sns.barplot(x=top_genes.values, y=top_genes.index)\n",
    "plt.title('Top 15 Expressed Genes')\n",
    "plt.xlabel('CPM')\n",
    "plt.ylabel('Gene')\n",
    "plt.tight_layout()\n",
    "plt.savefig('top_genes.png')"
   ]
  }
 ],
 "metadata": {},
 "nbformat": 4,
 "nbformat_minor": 2
}